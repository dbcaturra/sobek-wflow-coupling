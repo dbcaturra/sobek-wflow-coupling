{
 "cells": [
  {
   "cell_type": "code",
   "execution_count": null,
   "metadata": {
    "collapsed": false
   },
   "outputs": [],
   "source": [
    "import sys\n",
    "import spotpy, pandas\n",
    "import sobek, wflow"
   ]
  },
  {
   "cell_type": "code",
   "execution_count": null,
   "metadata": {
    "collapsed": false
   },
   "outputs": [],
   "source": [
    "\"\"\"\n",
    "File and folder structure suggested:\n",
    "- This file as a script or as a jupyter file\n",
    "- setup.ini configuration vars for coupling\n",
    "- Sobek:\n",
    "    - (Full model folders) default MagSec1, ...2, ...3\n",
    "    - sobek.py\n",
    "- Wflow\n",
    "    - (Full model folders) default wflow_0, ....\n",
    "    - (For single simulation) folder single\n",
    "    - wflow.py\n",
    "- Notes: Sobek need be running and import network click to scratch!\n",
    "\"\"\"\n",
    "\n",
    "class Couple:    \n",
    "    def __init__(self):\n",
    "        #Define some useful vars\n",
    "        self.timeserie = pandas.date_range('2008-01-01', '2012-12-31', freq='D')\n",
    "        self.lateralfile_path=\"Sobek/MagSect%d.lit/%d/LATERAL.DAT\"\n",
    "        #Start wflow calibration process\n",
    "        self.runTss = self.wflow_init()\n",
    "        self.couple_init()\n",
    "        \n",
    "    def wflow_init(self):\n",
    "        try:\n",
    "            sampler = spotpy.algorithms.mc(wflow.spot_setup(), dbname='wflow_calibration', dbformat='csv')\n",
    "            param = sampler.getdata.parameters()\n",
    "            runTss = wflow.spot_setup.single_simulation(param)\n",
    "            return runTss\n",
    "        except:\n",
    "            sys.exit(\"something wrong happened while runnig wflow!\")\n",
    "\n",
    "    def sobek_init(self):\n",
    "        try:\n",
    "            sampler = spotpy.algorithms.mc(sobek.spot_setup(), dbname='sobek_calibration', dbformat='csv')\n",
    "            param = sampler.getdata.parameters()\n",
    "        except:\n",
    "            sys.exit(\"something wrong happened while runnig sobek!\")\n",
    "    \n",
    "    def couple_init(self):\n",
    "        \"\"\"\n",
    "        Setup.ini filename\n",
    "        This method is for setup the static files of Sobek inputs (Laterals and boundarys)\n",
    "        with the output of wflow Run.tss file.\n",
    "        \"\"\"\n",
    "        self.setup = open(\"setup.ini\",\"r\")\n",
    "        self.setup = self.setup.readlines()\n",
    "        valid1 = self.change_lateral_values(1, eval(self.setup[1])[0], eval(self.setup[1])[1])\n",
    "        valid2 = self.change_lateral_values(2, eval(self.setup[2])[0], eval(self.setup[2])[1])\n",
    "        valid3 = self.change_lateral_values(3, eval(self.setup[3])[0], eval(self.setup[3])[1])\n",
    "        if valid1 == valid2 == valid3 == \"success\": pass\n",
    "        else: sys.exit(\"something wrong happened while change the laterals!\")\n",
    "        #Run sobek calibration algorithm\n",
    "        self.sobek_init()\n",
    "        \n",
    "    def change_lateral_values(self, M, V, R):\n",
    "        \"\"\"\n",
    "        M: number of Sobek model, Int\n",
    "        V: id_sobel: Number_wflow, Dictionary Python\n",
    "        R: Range of V\n",
    "        Case: Sobel case number, Int\n",
    "        \"\"\"\n",
    "        self.V = V\n",
    "        #Transform from run.tss to LATERAL.DAT\n",
    "        \"\"\"self.runTss = pandas.read_table(\"debug/run.tss\",\n",
    "                                    skiprows=[i for i in range(35)], \n",
    "                                    #sep=\"|\\s*\", \n",
    "                                    #engine=\"python\", \n",
    "                                    delim_whitespace=True,\n",
    "                                    header=None)\"\"\"\n",
    "        if M == 1:\n",
    "            Case=10\n",
    "            self.lateral_data = [self.runTss[:][idx] for idx in range(R[0],R[1]+1)]\n",
    "            \n",
    "        elif M == 2:\n",
    "            Case = 4\n",
    "            self.lateral_data = [self.runTss[:][idx] for idx in range(R[0],R[1]+1)]\n",
    "            \n",
    "        elif M == 3:\n",
    "            Case = 3\n",
    "            self.lateral_data = [self.runTss[:][idx] for idx in range(R[0],R[1]+1)]\n",
    "\n",
    "        #Write the new Lateral.dat            \n",
    "        with open(self.lateralfile_path%(M,Case), \"wb\") as f:\n",
    "            for idx, values in enumerate(self.lateral_data):\n",
    "                f.write(\"FLNO id '%s' sc 0 lt 0 dc lt 1 0 0 PDIN 0 0 '' pdin\"%V[idx])\n",
    "                f.write(\"TBLE\")\n",
    "                for idx2, value in enumerate(values):\n",
    "                    f.write(str(self.timeserie[idx2].strftime(\"%Y:%m:%d:%H:%M:%S\"))\n",
    "                            + \"\\b\" + str(value) + \"\\b\" + \"<\\n\")\n",
    "                f.write(\"tble flno\")\n",
    "        return \"success\""
   ]
  },
  {
   "cell_type": "code",
   "execution_count": null,
   "metadata": {
    "collapsed": false
   },
   "outputs": [],
   "source": [
    "c = Couple()"
   ]
  }
 ],
 "metadata": {
  "kernelspec": {
   "display_name": "Python 2",
   "language": "python",
   "name": "python2"
  },
  "language_info": {
   "codemirror_mode": {
    "name": "ipython",
    "version": 2
   },
   "file_extension": ".py",
   "mimetype": "text/x-python",
   "name": "python",
   "nbconvert_exporter": "python",
   "pygments_lexer": "ipython2",
   "version": "2.7.11+"
  }
 },
 "nbformat": 4,
 "nbformat_minor": 0
}
